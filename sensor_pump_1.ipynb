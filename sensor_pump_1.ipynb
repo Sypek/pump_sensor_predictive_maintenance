{
 "cells": [
  {
   "cell_type": "markdown",
   "metadata": {},
   "source": [
    "# **Maintanane prediction - pump sensor data** <br>\n",
    "Link to Kaggle: https://www.kaggle.com/nphantawee/pump-sensor-data"
   ]
  },
  {
   "cell_type": "markdown",
   "metadata": {},
   "source": [
    "**I Classification problem** - accident within a period of time <br>\n",
    "**II Regression problem** - RUL - Remaining Useful Time estimation"
   ]
  },
  {
   "cell_type": "markdown",
   "metadata": {},
   "source": [
    "**Step 1** <br>\n",
    "Look through data, prepare data"
   ]
  },
  {
   "cell_type": "code",
   "execution_count": 15,
   "metadata": {},
   "outputs": [],
   "source": [
    "import pandas as pd \n",
    "import numpy as np"
   ]
  },
  {
   "cell_type": "code",
   "execution_count": 16,
   "metadata": {},
   "outputs": [],
   "source": [
    "import warnings\n",
    "warnings.filterwarnings('ignore')"
   ]
  },
  {
   "cell_type": "code",
   "execution_count": 17,
   "metadata": {},
   "outputs": [],
   "source": [
    "import matplotlib.pyplot as plt"
   ]
  },
  {
   "cell_type": "code",
   "execution_count": 18,
   "metadata": {},
   "outputs": [],
   "source": [
    "import_raw = pd.read_csv(r'D:\\PROJEKTY\\pump_sensor\\sensor.csv', index_col=0)"
   ]
  },
  {
   "cell_type": "code",
   "execution_count": 19,
   "metadata": {},
   "outputs": [
    {
     "data": {
      "text/html": [
       "<div>\n",
       "<style scoped>\n",
       "    .dataframe tbody tr th:only-of-type {\n",
       "        vertical-align: middle;\n",
       "    }\n",
       "\n",
       "    .dataframe tbody tr th {\n",
       "        vertical-align: top;\n",
       "    }\n",
       "\n",
       "    .dataframe thead th {\n",
       "        text-align: right;\n",
       "    }\n",
       "</style>\n",
       "<table border=\"1\" class=\"dataframe\">\n",
       "  <thead>\n",
       "    <tr style=\"text-align: right;\">\n",
       "      <th></th>\n",
       "      <th>timestamp</th>\n",
       "      <th>sensor_00</th>\n",
       "      <th>sensor_01</th>\n",
       "      <th>sensor_02</th>\n",
       "      <th>sensor_03</th>\n",
       "      <th>sensor_04</th>\n",
       "      <th>sensor_05</th>\n",
       "      <th>sensor_06</th>\n",
       "      <th>sensor_07</th>\n",
       "      <th>sensor_08</th>\n",
       "      <th>...</th>\n",
       "      <th>sensor_43</th>\n",
       "      <th>sensor_44</th>\n",
       "      <th>sensor_45</th>\n",
       "      <th>sensor_46</th>\n",
       "      <th>sensor_47</th>\n",
       "      <th>sensor_48</th>\n",
       "      <th>sensor_49</th>\n",
       "      <th>sensor_50</th>\n",
       "      <th>sensor_51</th>\n",
       "      <th>machine_status</th>\n",
       "    </tr>\n",
       "  </thead>\n",
       "  <tbody>\n",
       "    <tr>\n",
       "      <th>0</th>\n",
       "      <td>2018-04-01 00:00:00</td>\n",
       "      <td>2.465394</td>\n",
       "      <td>47.09201</td>\n",
       "      <td>53.2118</td>\n",
       "      <td>46.31076</td>\n",
       "      <td>634.375</td>\n",
       "      <td>76.45975</td>\n",
       "      <td>13.41146</td>\n",
       "      <td>16.13136</td>\n",
       "      <td>15.56713</td>\n",
       "      <td>...</td>\n",
       "      <td>41.92708</td>\n",
       "      <td>39.6412</td>\n",
       "      <td>65.68287</td>\n",
       "      <td>50.92593</td>\n",
       "      <td>38.19444</td>\n",
       "      <td>157.9861</td>\n",
       "      <td>67.70834</td>\n",
       "      <td>243.0556</td>\n",
       "      <td>201.3889</td>\n",
       "      <td>NORMAL</td>\n",
       "    </tr>\n",
       "    <tr>\n",
       "      <th>1</th>\n",
       "      <td>2018-04-01 00:01:00</td>\n",
       "      <td>2.465394</td>\n",
       "      <td>47.09201</td>\n",
       "      <td>53.2118</td>\n",
       "      <td>46.31076</td>\n",
       "      <td>634.375</td>\n",
       "      <td>76.45975</td>\n",
       "      <td>13.41146</td>\n",
       "      <td>16.13136</td>\n",
       "      <td>15.56713</td>\n",
       "      <td>...</td>\n",
       "      <td>41.92708</td>\n",
       "      <td>39.6412</td>\n",
       "      <td>65.68287</td>\n",
       "      <td>50.92593</td>\n",
       "      <td>38.19444</td>\n",
       "      <td>157.9861</td>\n",
       "      <td>67.70834</td>\n",
       "      <td>243.0556</td>\n",
       "      <td>201.3889</td>\n",
       "      <td>NORMAL</td>\n",
       "    </tr>\n",
       "  </tbody>\n",
       "</table>\n",
       "<p>2 rows × 54 columns</p>\n",
       "</div>"
      ],
      "text/plain": [
       "             timestamp  sensor_00  sensor_01  sensor_02  sensor_03  sensor_04  \\\n",
       "0  2018-04-01 00:00:00   2.465394   47.09201    53.2118   46.31076    634.375   \n",
       "1  2018-04-01 00:01:00   2.465394   47.09201    53.2118   46.31076    634.375   \n",
       "\n",
       "   sensor_05  sensor_06  sensor_07  sensor_08  ...  sensor_43  sensor_44  \\\n",
       "0   76.45975   13.41146   16.13136   15.56713  ...   41.92708    39.6412   \n",
       "1   76.45975   13.41146   16.13136   15.56713  ...   41.92708    39.6412   \n",
       "\n",
       "   sensor_45  sensor_46  sensor_47  sensor_48  sensor_49  sensor_50  \\\n",
       "0   65.68287   50.92593   38.19444   157.9861   67.70834   243.0556   \n",
       "1   65.68287   50.92593   38.19444   157.9861   67.70834   243.0556   \n",
       "\n",
       "   sensor_51  machine_status  \n",
       "0   201.3889          NORMAL  \n",
       "1   201.3889          NORMAL  \n",
       "\n",
       "[2 rows x 54 columns]"
      ]
     },
     "execution_count": 19,
     "metadata": {},
     "output_type": "execute_result"
    }
   ],
   "source": [
    "import_raw.head(2)"
   ]
  },
  {
   "cell_type": "code",
   "execution_count": 20,
   "metadata": {},
   "outputs": [],
   "source": [
    "#import_raw.info()"
   ]
  },
  {
   "cell_type": "code",
   "execution_count": 21,
   "metadata": {},
   "outputs": [],
   "source": [
    "#import_raw.describe()"
   ]
  },
  {
   "cell_type": "code",
   "execution_count": 22,
   "metadata": {},
   "outputs": [],
   "source": [
    "#drop sensor_15 column - only NaN value\n",
    "try:\n",
    "    import_raw.drop(['sensor_15'], axis=1, inplace=True)\n",
    "except KeyError as e:\n",
    "    print(\"Column does not exist:  \", str(e))"
   ]
  },
  {
   "cell_type": "code",
   "execution_count": 23,
   "metadata": {},
   "outputs": [
    {
     "data": {
      "text/plain": [
       "array(['NORMAL', 'BROKEN', 'RECOVERING'], dtype=object)"
      ]
     },
     "execution_count": 23,
     "metadata": {},
     "output_type": "execute_result"
    }
   ],
   "source": [
    "# Check for different machine statuses\n",
    "import_raw['machine_status'].unique()"
   ]
  },
  {
   "cell_type": "code",
   "execution_count": 24,
   "metadata": {},
   "outputs": [
    {
     "data": {
      "text/plain": [
       "NORMAL        205836\n",
       "RECOVERING     14477\n",
       "BROKEN             7\n",
       "Name: machine_status, dtype: int64"
      ]
     },
     "execution_count": 24,
     "metadata": {},
     "output_type": "execute_result"
    }
   ],
   "source": [
    "import_raw.machine_status.value_counts()"
   ]
  },
  {
   "cell_type": "code",
   "execution_count": 25,
   "metadata": {},
   "outputs": [],
   "source": [
    "#import_raw.isna().sum()"
   ]
  },
  {
   "cell_type": "code",
   "execution_count": 26,
   "metadata": {},
   "outputs": [],
   "source": [
    "import_data_missing = import_raw.isna()\n",
    "import_data_missing_num = import_data_missing.sum()"
   ]
  },
  {
   "cell_type": "code",
   "execution_count": 27,
   "metadata": {},
   "outputs": [],
   "source": [
    "import_data_missing_percentage = ((import_data_missing_num / len(import_raw))*100).to_frame()"
   ]
  },
  {
   "cell_type": "code",
   "execution_count": 28,
   "metadata": {},
   "outputs": [
    {
     "data": {
      "text/html": [
       "<div>\n",
       "<style scoped>\n",
       "    .dataframe tbody tr th:only-of-type {\n",
       "        vertical-align: middle;\n",
       "    }\n",
       "\n",
       "    .dataframe tbody tr th {\n",
       "        vertical-align: top;\n",
       "    }\n",
       "\n",
       "    .dataframe thead th {\n",
       "        text-align: right;\n",
       "    }\n",
       "</style>\n",
       "<table border=\"1\" class=\"dataframe\">\n",
       "  <thead>\n",
       "    <tr style=\"text-align: right;\">\n",
       "      <th></th>\n",
       "      <th>timestamp</th>\n",
       "      <th>sensor_00</th>\n",
       "      <th>sensor_01</th>\n",
       "      <th>sensor_02</th>\n",
       "      <th>sensor_03</th>\n",
       "      <th>sensor_04</th>\n",
       "      <th>sensor_05</th>\n",
       "      <th>sensor_06</th>\n",
       "      <th>sensor_07</th>\n",
       "      <th>sensor_08</th>\n",
       "      <th>...</th>\n",
       "      <th>sensor_43</th>\n",
       "      <th>sensor_44</th>\n",
       "      <th>sensor_45</th>\n",
       "      <th>sensor_46</th>\n",
       "      <th>sensor_47</th>\n",
       "      <th>sensor_48</th>\n",
       "      <th>sensor_49</th>\n",
       "      <th>sensor_50</th>\n",
       "      <th>sensor_51</th>\n",
       "      <th>machine_status</th>\n",
       "    </tr>\n",
       "  </thead>\n",
       "  <tbody>\n",
       "    <tr>\n",
       "      <th>0</th>\n",
       "      <td>0.0</td>\n",
       "      <td>4.633261</td>\n",
       "      <td>0.167484</td>\n",
       "      <td>0.008624</td>\n",
       "      <td>0.008624</td>\n",
       "      <td>0.008624</td>\n",
       "      <td>0.008624</td>\n",
       "      <td>2.177741</td>\n",
       "      <td>2.474129</td>\n",
       "      <td>2.317992</td>\n",
       "      <td>...</td>\n",
       "      <td>0.012255</td>\n",
       "      <td>0.012255</td>\n",
       "      <td>0.012255</td>\n",
       "      <td>0.012255</td>\n",
       "      <td>0.012255</td>\n",
       "      <td>0.012255</td>\n",
       "      <td>0.012255</td>\n",
       "      <td>34.956881</td>\n",
       "      <td>6.982117</td>\n",
       "      <td>0.0</td>\n",
       "    </tr>\n",
       "  </tbody>\n",
       "</table>\n",
       "<p>1 rows × 53 columns</p>\n",
       "</div>"
      ],
      "text/plain": [
       "   timestamp  sensor_00  sensor_01  sensor_02  sensor_03  sensor_04  \\\n",
       "0        0.0   4.633261   0.167484   0.008624   0.008624   0.008624   \n",
       "\n",
       "   sensor_05  sensor_06  sensor_07  sensor_08  ...  sensor_43  sensor_44  \\\n",
       "0   0.008624   2.177741   2.474129   2.317992  ...   0.012255   0.012255   \n",
       "\n",
       "   sensor_45  sensor_46  sensor_47  sensor_48  sensor_49  sensor_50  \\\n",
       "0   0.012255   0.012255   0.012255   0.012255   0.012255  34.956881   \n",
       "\n",
       "   sensor_51  machine_status  \n",
       "0   6.982117             0.0  \n",
       "\n",
       "[1 rows x 53 columns]"
      ]
     },
     "execution_count": 28,
     "metadata": {},
     "output_type": "execute_result"
    }
   ],
   "source": [
    "import_data_missing_percentage.transpose()"
   ]
  },
  {
   "cell_type": "code",
   "execution_count": 29,
   "metadata": {},
   "outputs": [],
   "source": [
    "# ~35% of missing in sensor_50\n",
    "sensor_50 = import_raw[['sensor_50']]\n",
    "sensor_50.fillna(value={'sensor_50':'2000'}, inplace=True)"
   ]
  },
  {
   "cell_type": "code",
   "execution_count": 30,
   "metadata": {},
   "outputs": [
    {
     "data": {
      "image/png": "[encoded data removed]",
      "text/plain": [
       "<Figure size 1440x360 with 1 Axes>"
      ]
     },
     "metadata": {
      "needs_background": "light"
     },
     "output_type": "display_data"
    }
   ],
   "source": [
    "# after changing NA to some outstanding value, I decide to remove this variable\n",
    "plt.figure(figsize=(20,5))\n",
    "plt.scatter(sensor_50.index, sensor_50.sensor_50, s=0.2, c='r', marker='x')\n",
    "plt.xlabel('index')\n",
    "plt.ylabel('sensor_50')\n",
    "plt.show()"
   ]
  },
  {
   "cell_type": "code",
   "execution_count": 31,
   "metadata": {},
   "outputs": [],
   "source": [
    "#drop sensor_15 column - only NaN value\n",
    "try:\n",
    "    import_raw.drop(['sensor_50'], axis=1, inplace=True)\n",
    "except KeyError as e:\n",
    "    print(\"Column does not exist:  \", str(e))"
   ]
  },
  {
   "cell_type": "code",
   "execution_count": 32,
   "metadata": {},
   "outputs": [],
   "source": [
    "def draw_sensor_data(sensor_number, import_raw):\n",
    "    plt.figure(figsize=(20,5))\n",
    "    sensor_num = 'sensor_' + str(sensor_number)\n",
    "    plt.scatter(import_raw.index, import_raw[[sensor_num]], s=0.2, c='r', marker='x')\n",
    "    plt.xlabel('index')\n",
    "    plt.ylabel(sensor_num)\n",
    "    plt.show()"
   ]
  },
  {
   "cell_type": "code",
   "execution_count": 33,
   "metadata": {},
   "outputs": [
    {
     "data": {
      "image/png": "[encoded data removed]",
      "text/plain": [
       "<Figure size 1440x360 with 1 Axes>"
      ]
     },
     "metadata": {
      "needs_background": "light"
     },
     "output_type": "display_data"
    }
   ],
   "source": [
    "draw_sensor_data('01', import_raw)"
   ]
  },
  {
   "cell_type": "code",
   "execution_count": 34,
   "metadata": {},
   "outputs": [],
   "source": [
    "# Lets check how different states ('NORMAL', 'BROKEN', 'RECOVERING') occur over time\n",
    "# Replace string with numerical representation\n",
    "# Normal=1, Broken=2, Recovering=3\n",
    "machine_status = import_raw[['machine_status']]\n",
    "machine_status.loc[machine_status['machine_status'] == 'NORMAL'] = 1\n",
    "machine_status.loc[machine_status['machine_status'] == 'BROKEN'] = 2\n",
    "machine_status.loc[machine_status['machine_status'] == 'RECOVERING'] = 3"
   ]
  },
  {
   "cell_type": "code",
   "execution_count": 35,
   "metadata": {},
   "outputs": [
    {
     "data": {
      "image/png": "[encoded data removed]",
      "text/plain": [
       "<Figure size 1440x360 with 1 Axes>"
      ]
     },
     "metadata": {
      "needs_background": "light"
     },
     "output_type": "display_data"
    }
   ],
   "source": [
    "plt.figure(figsize=(20,5))\n",
    "plt.scatter(machine_status.index, machine_status.where(machine_status['machine_status']==1), s=0.1, c='b', marker='x')\n",
    "plt.scatter(machine_status.index, machine_status.where(machine_status['machine_status']==2), s=25, c='r', marker='x')\n",
    "plt.scatter(machine_status.index, machine_status.where(machine_status['machine_status']==3), s=0.1, c='g', marker='x')\n",
    "plt.xlabel('index')\n",
    "plt.ylabel('Machine Status')\n",
    "plt.show()"
   ]
  },
  {
   "cell_type": "code",
   "execution_count": 36,
   "metadata": {},
   "outputs": [],
   "source": [
    "# After looking at sensor values visualisations - it looks at the first sight that 'outsiders' values may be connected with breakdown in machines work\n",
    "# I've decided to replace missing values with AKIMA interpolation"
   ]
  },
  {
   "cell_type": "code",
   "execution_count": 37,
   "metadata": {},
   "outputs": [],
   "source": [
    "sensors_df_akima = import_raw.copy()"
   ]
  },
  {
   "cell_type": "code",
   "execution_count": 38,
   "metadata": {},
   "outputs": [],
   "source": [
    "sensors_df_akima.interpolate(method='akima', inplace=True)"
   ]
  },
  {
   "cell_type": "code",
   "execution_count": 39,
   "metadata": {},
   "outputs": [
    {
     "data": {
      "image/png": "[encoded data removed]",
      "text/plain": [
       "<Figure size 1440x360 with 1 Axes>"
      ]
     },
     "metadata": {
      "needs_background": "light"
     },
     "output_type": "display_data"
    }
   ],
   "source": [
    "sensor_num = '51' \n",
    "plt.figure(figsize=(20,5))\n",
    "sensor_num = 'sensor_' + str(sensor_num)\n",
    "plt.scatter(sensors_df_akima.index, sensors_df_akima[[sensor_num]], s=0.2, c='g', marker='x')\n",
    "plt.scatter(import_raw.index, import_raw[[sensor_num]], s=0.2, c='r', marker='x')\n",
    "plt.xlabel('index')\n",
    "plt.ylabel(sensor_num)\n",
    "plt.show()"
   ]
  },
  {
   "cell_type": "code",
   "execution_count": 40,
   "metadata": {},
   "outputs": [],
   "source": [
    "from sklearn.preprocessing import OneHotEncoder"
   ]
  },
  {
   "cell_type": "code",
   "execution_count": 41,
   "metadata": {},
   "outputs": [],
   "source": [
    "one_hot_encoder = OneHotEncoder()\n",
    "one_hot_encoded = one_hot_encoder.fit_transform(sensors_df_akima[['machine_status']]).toarray()"
   ]
  },
  {
   "cell_type": "code",
   "execution_count": 42,
   "metadata": {},
   "outputs": [],
   "source": [
    "sensors_df_akima_one_hot = pd.DataFrame(one_hot_encoded, columns=one_hot_encoder.get_feature_names().tolist())"
   ]
  },
  {
   "cell_type": "code",
   "execution_count": 43,
   "metadata": {},
   "outputs": [
    {
     "data": {
      "text/html": [
       "<div>\n",
       "<style scoped>\n",
       "    .dataframe tbody tr th:only-of-type {\n",
       "        vertical-align: middle;\n",
       "    }\n",
       "\n",
       "    .dataframe tbody tr th {\n",
       "        vertical-align: top;\n",
       "    }\n",
       "\n",
       "    .dataframe thead th {\n",
       "        text-align: right;\n",
       "    }\n",
       "</style>\n",
       "<table border=\"1\" class=\"dataframe\">\n",
       "  <thead>\n",
       "    <tr style=\"text-align: right;\">\n",
       "      <th></th>\n",
       "      <th>x0_BROKEN</th>\n",
       "      <th>x0_NORMAL</th>\n",
       "      <th>x0_RECOVERING</th>\n",
       "    </tr>\n",
       "  </thead>\n",
       "  <tbody>\n",
       "    <tr>\n",
       "      <th>0</th>\n",
       "      <td>0.0</td>\n",
       "      <td>1.0</td>\n",
       "      <td>0.0</td>\n",
       "    </tr>\n",
       "    <tr>\n",
       "      <th>1</th>\n",
       "      <td>0.0</td>\n",
       "      <td>1.0</td>\n",
       "      <td>0.0</td>\n",
       "    </tr>\n",
       "    <tr>\n",
       "      <th>2</th>\n",
       "      <td>0.0</td>\n",
       "      <td>1.0</td>\n",
       "      <td>0.0</td>\n",
       "    </tr>\n",
       "    <tr>\n",
       "      <th>3</th>\n",
       "      <td>0.0</td>\n",
       "      <td>1.0</td>\n",
       "      <td>0.0</td>\n",
       "    </tr>\n",
       "    <tr>\n",
       "      <th>4</th>\n",
       "      <td>0.0</td>\n",
       "      <td>1.0</td>\n",
       "      <td>0.0</td>\n",
       "    </tr>\n",
       "  </tbody>\n",
       "</table>\n",
       "</div>"
      ],
      "text/plain": [
       "   x0_BROKEN  x0_NORMAL  x0_RECOVERING\n",
       "0        0.0        1.0            0.0\n",
       "1        0.0        1.0            0.0\n",
       "2        0.0        1.0            0.0\n",
       "3        0.0        1.0            0.0\n",
       "4        0.0        1.0            0.0"
      ]
     },
     "execution_count": 43,
     "metadata": {},
     "output_type": "execute_result"
    }
   ],
   "source": [
    "sensors_df_akima_one_hot.head()"
   ]
  },
  {
   "cell_type": "code",
   "execution_count": 44,
   "metadata": {},
   "outputs": [],
   "source": [
    "#replace categorical column with one hot encoded\n",
    "try:\n",
    "    sensors_df_akima.drop(['machine_status'], axis=1, inplace=True)\n",
    "except KeyError as e:\n",
    "    print(\"Column does not exist:  \", str(e))\n",
    "    \n",
    "#inner join tables on index\n",
    "\n",
    "#make sure arrays have the same number of rows\n",
    "if sensors_df_akima.shape[0] == sensors_df_akima_one_hot.shape[0]:\n",
    "    sensors_df_akima = pd.concat([sensors_df_akima, sensors_df_akima_one_hot], axis=1, join='inner')\n",
    "else:\n",
    "    print(\"Different number of rows.\")"
   ]
  },
  {
   "cell_type": "code",
   "execution_count": 45,
   "metadata": {},
   "outputs": [
    {
     "data": {
      "text/html": [
       "<div>\n",
       "<style scoped>\n",
       "    .dataframe tbody tr th:only-of-type {\n",
       "        vertical-align: middle;\n",
       "    }\n",
       "\n",
       "    .dataframe tbody tr th {\n",
       "        vertical-align: top;\n",
       "    }\n",
       "\n",
       "    .dataframe thead th {\n",
       "        text-align: right;\n",
       "    }\n",
       "</style>\n",
       "<table border=\"1\" class=\"dataframe\">\n",
       "  <thead>\n",
       "    <tr style=\"text-align: right;\">\n",
       "      <th></th>\n",
       "      <th>timestamp</th>\n",
       "      <th>sensor_00</th>\n",
       "      <th>sensor_01</th>\n",
       "      <th>sensor_02</th>\n",
       "      <th>sensor_03</th>\n",
       "      <th>sensor_04</th>\n",
       "      <th>sensor_05</th>\n",
       "      <th>sensor_06</th>\n",
       "      <th>sensor_07</th>\n",
       "      <th>sensor_08</th>\n",
       "      <th>...</th>\n",
       "      <th>sensor_44</th>\n",
       "      <th>sensor_45</th>\n",
       "      <th>sensor_46</th>\n",
       "      <th>sensor_47</th>\n",
       "      <th>sensor_48</th>\n",
       "      <th>sensor_49</th>\n",
       "      <th>sensor_51</th>\n",
       "      <th>x0_BROKEN</th>\n",
       "      <th>x0_NORMAL</th>\n",
       "      <th>x0_RECOVERING</th>\n",
       "    </tr>\n",
       "  </thead>\n",
       "  <tbody>\n",
       "    <tr>\n",
       "      <th>0</th>\n",
       "      <td>2018-04-01 00:00:00</td>\n",
       "      <td>2.465394</td>\n",
       "      <td>47.09201</td>\n",
       "      <td>53.2118</td>\n",
       "      <td>46.31076</td>\n",
       "      <td>634.375</td>\n",
       "      <td>76.45975</td>\n",
       "      <td>13.41146</td>\n",
       "      <td>16.13136</td>\n",
       "      <td>15.56713</td>\n",
       "      <td>...</td>\n",
       "      <td>39.6412</td>\n",
       "      <td>65.68287</td>\n",
       "      <td>50.92593</td>\n",
       "      <td>38.19444</td>\n",
       "      <td>157.9861</td>\n",
       "      <td>67.70834</td>\n",
       "      <td>201.3889</td>\n",
       "      <td>0.0</td>\n",
       "      <td>1.0</td>\n",
       "      <td>0.0</td>\n",
       "    </tr>\n",
       "    <tr>\n",
       "      <th>1</th>\n",
       "      <td>2018-04-01 00:01:00</td>\n",
       "      <td>2.465394</td>\n",
       "      <td>47.09201</td>\n",
       "      <td>53.2118</td>\n",
       "      <td>46.31076</td>\n",
       "      <td>634.375</td>\n",
       "      <td>76.45975</td>\n",
       "      <td>13.41146</td>\n",
       "      <td>16.13136</td>\n",
       "      <td>15.56713</td>\n",
       "      <td>...</td>\n",
       "      <td>39.6412</td>\n",
       "      <td>65.68287</td>\n",
       "      <td>50.92593</td>\n",
       "      <td>38.19444</td>\n",
       "      <td>157.9861</td>\n",
       "      <td>67.70834</td>\n",
       "      <td>201.3889</td>\n",
       "      <td>0.0</td>\n",
       "      <td>1.0</td>\n",
       "      <td>0.0</td>\n",
       "    </tr>\n",
       "  </tbody>\n",
       "</table>\n",
       "<p>2 rows × 54 columns</p>\n",
       "</div>"
      ],
      "text/plain": [
       "             timestamp  sensor_00  sensor_01  sensor_02  sensor_03  sensor_04  \\\n",
       "0  2018-04-01 00:00:00   2.465394   47.09201    53.2118   46.31076    634.375   \n",
       "1  2018-04-01 00:01:00   2.465394   47.09201    53.2118   46.31076    634.375   \n",
       "\n",
       "   sensor_05  sensor_06  sensor_07  sensor_08  ...  sensor_44  sensor_45  \\\n",
       "0   76.45975   13.41146   16.13136   15.56713  ...    39.6412   65.68287   \n",
       "1   76.45975   13.41146   16.13136   15.56713  ...    39.6412   65.68287   \n",
       "\n",
       "   sensor_46  sensor_47  sensor_48  sensor_49  sensor_51  x0_BROKEN  \\\n",
       "0   50.92593   38.19444   157.9861   67.70834   201.3889        0.0   \n",
       "1   50.92593   38.19444   157.9861   67.70834   201.3889        0.0   \n",
       "\n",
       "   x0_NORMAL  x0_RECOVERING  \n",
       "0        1.0            0.0  \n",
       "1        1.0            0.0  \n",
       "\n",
       "[2 rows x 54 columns]"
      ]
     },
     "execution_count": 45,
     "metadata": {},
     "output_type": "execute_result"
    }
   ],
   "source": [
    "sensors_df_akima.head(2)"
   ]
  },
  {
   "cell_type": "markdown",
   "metadata": {},
   "source": [
    "**Let's perform some PCA analysis to see the distribution of variance** <br>\n",
    "**Also let's check how existing features imply on the state of machine - Random Forest Classifier** <br>\n",
    "Afterwards some feature engineering will be required"
   ]
  },
  {
   "cell_type": "code",
   "execution_count": 46,
   "metadata": {},
   "outputs": [],
   "source": [
    "from sklearn.decomposition import PCA"
   ]
  },
  {
   "cell_type": "code",
   "execution_count": 47,
   "metadata": {},
   "outputs": [],
   "source": [
    "def display_PCA(n_components):\n",
    "    model = PCA(n_components)\n",
    "    model.fit_transform(sensors_df_akima[sensors_df_akima.columns.difference(['timestamp', 'x0_BROKEN', 'x0_NORMAL', 'x0_RECOVERING'])])\n",
    "    \n",
    "    var_ratio = model.explained_variance_ratio_\n",
    "    var_ratio_sum = model.explained_variance_ratio_.cumsum()\n",
    "    print('Explained variance ratio: \\n', var_ratio)\n",
    "    print('Explained variance ratio sum: \\n', var_ratio_sum)\n",
    "    \n",
    "    X = np.arange(1, n_components+1)\n",
    "    plt.scatter(x=X, y=var_ratio, marker='*', c='g')\n",
    "    plt.scatter(x=X, y=var_ratio_sum, marker = 'o', c='r')\n",
    "    plt.xlabel('Number of components')\n",
    "    plt.ylabel('Explained variance ratio')\n",
    "    \n",
    "    return model"
   ]
  },
  {
   "cell_type": "code",
   "execution_count": 48,
   "metadata": {},
   "outputs": [
    {
     "name": "stdout",
     "output_type": "stream",
     "text": [
      "Explained variance ratio: \n",
      " [0.70575337 0.08271944 0.05605936 0.03341084 0.0273423  0.02045774\n",
      " 0.0180864  0.01492081 0.00929508 0.00732914]\n",
      "Explained variance ratio sum: \n",
      " [0.70575337 0.7884728  0.84453217 0.87794301 0.90528531 0.92574305\n",
      " 0.94382945 0.95875025 0.96804533 0.97537447]\n"
     ]
    },
    {
     "data": {
      "image/png": "[encoded data removed]",
      "text/plain": [
       "<Figure size 432x288 with 1 Axes>"
      ]
     },
     "metadata": {
      "needs_background": "light"
     },
     "output_type": "display_data"
    }
   ],
   "source": [
    "pca_model = display_PCA(10)"
   ]
  },
  {
   "cell_type": "code",
   "execution_count": 49,
   "metadata": {},
   "outputs": [],
   "source": [
    "import seaborn as sns"
   ]
  },
  {
   "cell_type": "code",
   "execution_count": 50,
   "metadata": {},
   "outputs": [],
   "source": [
    "corr = sensors_df_akima.corr(method='pearson')"
   ]
  },
  {
   "cell_type": "code",
   "execution_count": 51,
   "metadata": {},
   "outputs": [
    {
     "data": {
      "text/plain": [
       "<matplotlib.axes._subplots.AxesSubplot at 0x2318fd1ef60>"
      ]
     },
     "execution_count": 51,
     "metadata": {},
     "output_type": "execute_result"
    },
    {
     "data": {
      "image/png": "[encoded data removed]",
      "text/plain": [
       "<Figure size 1080x1080 with 2 Axes>"
      ]
     },
     "metadata": {
      "needs_background": "light"
     },
     "output_type": "display_data"
    }
   ],
   "source": [
    "plt.figure(figsize=(15, 15))\n",
    "sns.heatmap(corr, linewidths=.2)"
   ]
  },
  {
   "cell_type": "code",
   "execution_count": 52,
   "metadata": {},
   "outputs": [
    {
     "data": {
      "text/html": [
       "<div>\n",
       "<style scoped>\n",
       "    .dataframe tbody tr th:only-of-type {\n",
       "        vertical-align: middle;\n",
       "    }\n",
       "\n",
       "    .dataframe tbody tr th {\n",
       "        vertical-align: top;\n",
       "    }\n",
       "\n",
       "    .dataframe thead th {\n",
       "        text-align: right;\n",
       "    }\n",
       "</style>\n",
       "<table border=\"1\" class=\"dataframe\">\n",
       "  <thead>\n",
       "    <tr style=\"text-align: right;\">\n",
       "      <th></th>\n",
       "      <th>timestamp</th>\n",
       "      <th>sensor_00</th>\n",
       "      <th>sensor_01</th>\n",
       "      <th>sensor_02</th>\n",
       "      <th>sensor_03</th>\n",
       "      <th>sensor_04</th>\n",
       "      <th>sensor_05</th>\n",
       "      <th>sensor_06</th>\n",
       "      <th>sensor_07</th>\n",
       "      <th>sensor_08</th>\n",
       "      <th>...</th>\n",
       "      <th>sensor_44</th>\n",
       "      <th>sensor_45</th>\n",
       "      <th>sensor_46</th>\n",
       "      <th>sensor_47</th>\n",
       "      <th>sensor_48</th>\n",
       "      <th>sensor_49</th>\n",
       "      <th>sensor_51</th>\n",
       "      <th>x0_BROKEN</th>\n",
       "      <th>x0_NORMAL</th>\n",
       "      <th>x0_RECOVERING</th>\n",
       "    </tr>\n",
       "  </thead>\n",
       "  <tbody>\n",
       "    <tr>\n",
       "      <th>0</th>\n",
       "      <td>2018-04-01 00:00:00</td>\n",
       "      <td>2.465394</td>\n",
       "      <td>47.09201</td>\n",
       "      <td>53.2118</td>\n",
       "      <td>46.31076</td>\n",
       "      <td>634.375</td>\n",
       "      <td>76.45975</td>\n",
       "      <td>13.41146</td>\n",
       "      <td>16.13136</td>\n",
       "      <td>15.56713</td>\n",
       "      <td>...</td>\n",
       "      <td>39.6412</td>\n",
       "      <td>65.68287</td>\n",
       "      <td>50.92593</td>\n",
       "      <td>38.19444</td>\n",
       "      <td>157.9861</td>\n",
       "      <td>67.70834</td>\n",
       "      <td>201.3889</td>\n",
       "      <td>0.0</td>\n",
       "      <td>1.0</td>\n",
       "      <td>0.0</td>\n",
       "    </tr>\n",
       "    <tr>\n",
       "      <th>1</th>\n",
       "      <td>2018-04-01 00:01:00</td>\n",
       "      <td>2.465394</td>\n",
       "      <td>47.09201</td>\n",
       "      <td>53.2118</td>\n",
       "      <td>46.31076</td>\n",
       "      <td>634.375</td>\n",
       "      <td>76.45975</td>\n",
       "      <td>13.41146</td>\n",
       "      <td>16.13136</td>\n",
       "      <td>15.56713</td>\n",
       "      <td>...</td>\n",
       "      <td>39.6412</td>\n",
       "      <td>65.68287</td>\n",
       "      <td>50.92593</td>\n",
       "      <td>38.19444</td>\n",
       "      <td>157.9861</td>\n",
       "      <td>67.70834</td>\n",
       "      <td>201.3889</td>\n",
       "      <td>0.0</td>\n",
       "      <td>1.0</td>\n",
       "      <td>0.0</td>\n",
       "    </tr>\n",
       "  </tbody>\n",
       "</table>\n",
       "<p>2 rows × 54 columns</p>\n",
       "</div>"
      ],
      "text/plain": [
       "             timestamp  sensor_00  sensor_01  sensor_02  sensor_03  sensor_04  \\\n",
       "0  2018-04-01 00:00:00   2.465394   47.09201    53.2118   46.31076    634.375   \n",
       "1  2018-04-01 00:01:00   2.465394   47.09201    53.2118   46.31076    634.375   \n",
       "\n",
       "   sensor_05  sensor_06  sensor_07  sensor_08  ...  sensor_44  sensor_45  \\\n",
       "0   76.45975   13.41146   16.13136   15.56713  ...    39.6412   65.68287   \n",
       "1   76.45975   13.41146   16.13136   15.56713  ...    39.6412   65.68287   \n",
       "\n",
       "   sensor_46  sensor_47  sensor_48  sensor_49  sensor_51  x0_BROKEN  \\\n",
       "0   50.92593   38.19444   157.9861   67.70834   201.3889        0.0   \n",
       "1   50.92593   38.19444   157.9861   67.70834   201.3889        0.0   \n",
       "\n",
       "   x0_NORMAL  x0_RECOVERING  \n",
       "0        1.0            0.0  \n",
       "1        1.0            0.0  \n",
       "\n",
       "[2 rows x 54 columns]"
      ]
     },
     "execution_count": 52,
     "metadata": {},
     "output_type": "execute_result"
    }
   ],
   "source": [
    "sensors_df_akima.head(2)"
   ]
  },
  {
   "cell_type": "code",
   "execution_count": 53,
   "metadata": {},
   "outputs": [],
   "source": [
    "def grouper(table, column_name):\n",
    "    table_1 = table[column_name]\n",
    "    grouper = (table_1 != table_1.shift()).cumsum()\n",
    "    return grouper"
   ]
  },
  {
   "cell_type": "code",
   "execution_count": 54,
   "metadata": {},
   "outputs": [],
   "source": [
    "sensors_df_akima['normal_time'] = sensors_df_akima.groupby(grouper(sensors_df_akima, 'x0_NORMAL'))['x0_NORMAL'].cumsum()\n",
    "sensors_df_akima['broken_time'] = sensors_df_akima.groupby(grouper(sensors_df_akima, 'x0_BROKEN'))['x0_BROKEN'].cumsum()\n",
    "sensors_df_akima['recovering_time'] = sensors_df_akima.groupby(grouper(sensors_df_akima, 'x0_RECOVERING'))['x0_RECOVERING'].cumsum()"
   ]
  },
  {
   "cell_type": "code",
   "execution_count": 55,
   "metadata": {},
   "outputs": [
    {
     "data": {
      "text/plain": [
       "<matplotlib.collections.PathCollection at 0x2319aa0e780>"
      ]
     },
     "execution_count": 55,
     "metadata": {},
     "output_type": "execute_result"
    },
    {
     "data": {
      "image/png": "[encoded data removed]",
      "text/plain": [
       "<Figure size 432x288 with 1 Axes>"
      ]
     },
     "metadata": {
      "needs_background": "light"
     },
     "output_type": "display_data"
    }
   ],
   "source": [
    "plt.scatter(x=np.arange(start=0, stop=len(sensors_df_akima)),\n",
    "           y=sensors_df_akima['normal_time'],\n",
    "           s=.2)"
   ]
  },
  {
   "cell_type": "code",
   "execution_count": 56,
   "metadata": {},
   "outputs": [
    {
     "data": {
      "text/plain": [
       "17155     1.0\n",
       "24510     1.0\n",
       "69318     1.0\n",
       "77790     1.0\n",
       "128040    1.0\n",
       "141131    1.0\n",
       "166440    1.0\n",
       "Name: broken_time, dtype: float64"
      ]
     },
     "execution_count": 56,
     "metadata": {},
     "output_type": "execute_result"
    }
   ],
   "source": [
    "difference = sensors_df_akima['broken_time'].diff()\n",
    "difference.loc[difference==1]"
   ]
  },
  {
   "cell_type": "code",
   "execution_count": 57,
   "metadata": {},
   "outputs": [
    {
     "name": "stdout",
     "output_type": "stream",
     "text": [
      "Data covers: 153 days.\n"
     ]
    }
   ],
   "source": [
    "print('Data covers: ' + str(int(len(sensors_df_akima)/60/24)) + ' days.')"
   ]
  },
  {
   "cell_type": "markdown",
   "metadata": {},
   "source": [
    "Whole dataset covers 153 days. </br>\n",
    "Lets try to classify, whether pump will brake in the next day."
   ]
  },
  {
   "cell_type": "code",
   "execution_count": 58,
   "metadata": {},
   "outputs": [],
   "source": [
    "def add_broken_flag(df, n):\n",
    "    \"\"\"Add flag to the datasset to indicate that failure will be in [n] days\"\"\"\n",
    "    num_of_periods = n*24*60\n",
    "    col_name = 'fail_in_' + str(n) + '_days'\n",
    "    broken_index = df.loc[df['x0_BROKEN']==1].index\n",
    "    df[col_name] = df['x0_BROKEN']\n",
    "    for i in broken_index:\n",
    "        df.loc[(int(i)-200): i, col_name] = 1\n",
    "    return df"
   ]
  },
  {
   "cell_type": "code",
   "execution_count": 59,
   "metadata": {},
   "outputs": [],
   "source": [
    "sensors_df_akima = add_broken_flag(sensors_df_akima, 1)\n",
    "sensors_df_akima = add_broken_flag(sensors_df_akima, 3)"
   ]
  },
  {
   "cell_type": "markdown",
   "metadata": {},
   "source": [
    "**Split into train, and test set** </br>\n",
    "Because the data we're dealing with is time-series like, we cannot simply apply random train - test split. </br>\n",
    "This requires split in *time-dependent* manner, so that model is not trained on data that will come in the future. </br>\n"
   ]
  },
  {
   "cell_type": "code",
   "execution_count": 60,
   "metadata": {},
   "outputs": [
    {
     "data": {
      "image/png": "[encoded data removed]",
      "text/plain": [
       "<Figure size 1440x360 with 2 Axes>"
      ]
     },
     "metadata": {
      "needs_background": "light"
     },
     "output_type": "display_data"
    }
   ],
   "source": [
    "fig = plt.figure(figsize=(20,5))\n",
    "ax1 = fig.add_subplot(111)\n",
    "colors = ['b', 'r', 'g']\n",
    "plot_1 = ax1.scatter(machine_status.index, machine_status.where(machine_status['machine_status']==1), s=0.1, c=colors[0], marker='x')\n",
    "plot_2 = ax1.scatter(machine_status.index, machine_status.where(machine_status['machine_status']==2), s=25, c=colors[1], marker='x')\n",
    "plot_3 = ax1.scatter(machine_status.index, machine_status.where(machine_status['machine_status']==3), s=0.1, c=colors[2], marker='x')\n",
    "ax1.set_xlabel('index')\n",
    "ax1.set_ylabel('Machine Status')\n",
    "\n",
    "ax1.legend((plot_1, plot_2, plot_3),\n",
    "           ('Recovery', 'Broken', 'Normal'),\n",
    "           scatterpoints=5,\n",
    "           loc='top right',\n",
    "           ncol=1,\n",
    "           fontsize=16)\n",
    "\n",
    "ax2 = ax1.twiny()\n",
    "ax2.set_xlabel('Percentage of dataset')\n",
    "ax2.set_xticklabels(['0%','20%','40%', '60%', '80%', '100%'])\n",
    "plt.show()"
   ]
  },
  {
   "cell_type": "code",
   "execution_count": 61,
   "metadata": {},
   "outputs": [],
   "source": [
    "#drop some unnecessary columns\n",
    "try:\n",
    "    sensors_df_akima.drop(['timestamp'], axis=1, inplace=True)\n",
    "except KeyError as e:\n",
    "    print(\"Column does not exist:  \", str(e))\n",
    "    "
   ]
  },
  {
   "cell_type": "markdown",
   "metadata": {},
   "source": [
    "We divide data into three sets: train(55%), validation(25%) and test(20%)"
   ]
  },
  {
   "cell_type": "code",
   "execution_count": 62,
   "metadata": {},
   "outputs": [],
   "source": [
    "df_train = sensors_df_akima.copy()\n",
    "df_validation = sensors_df_akima.copy()\n",
    "df_test = sensors_df_akima.copy()"
   ]
  },
  {
   "cell_type": "code",
   "execution_count": 63,
   "metadata": {},
   "outputs": [],
   "source": [
    "df_train = df_train[df_train.index <= round(len(sensors_df_akima)*0.55)]\n",
    "df_validation = df_validation[(df_validation.index > round(len(sensors_df_akima)*0.55)) & (df_validation.index <= round(len(sensors_df_akima)*0.8))]\n",
    "df_test = df_test[df_test.index > round(len(sensors_df_akima)*0.8)]"
   ]
  },
  {
   "cell_type": "code",
   "execution_count": 64,
   "metadata": {},
   "outputs": [
    {
     "name": "stdout",
     "output_type": "stream",
     "text": [
      "Size of: \n",
      " train set: 121177 \n",
      " validation set: 55080 \n",
      " test set 44063\n"
     ]
    }
   ],
   "source": [
    "print('Size of: \\n train set: {} \\n validation set: {} \\n test set {}'.format(len(df_train), len(df_validation), len(df_test)))"
   ]
  },
  {
   "cell_type": "markdown",
   "metadata": {},
   "source": [
    "**Apply min max scaling**"
   ]
  },
  {
   "cell_type": "code",
   "execution_count": 65,
   "metadata": {},
   "outputs": [],
   "source": [
    "from sklearn.preprocessing import MinMaxScaler\n",
    "min_max = MinMaxScaler()"
   ]
  },
  {
   "cell_type": "code",
   "execution_count": 66,
   "metadata": {},
   "outputs": [],
   "source": [
    "col_names = sensors_df_akima.columns.tolist()"
   ]
  },
  {
   "cell_type": "code",
   "execution_count": 67,
   "metadata": {},
   "outputs": [],
   "source": [
    "df_train_norm = pd.DataFrame(min_max.fit_transform(df_train), columns=col_names, index=df_train.index)\n",
    "df_validation_norm = pd.DataFrame(min_max.fit_transform(df_validation), columns=col_names, index=df_validation.index)\n",
    "df_test_norm = pd.DataFrame(min_max.fit_transform(df_test), columns=col_names, index=df_test.index)"
   ]
  },
  {
   "cell_type": "markdown",
   "metadata": {},
   "source": [
    "**Represent data as moving widnow in order to apply it into the model**"
   ]
  },
  {
   "cell_type": "code",
   "execution_count": 69,
   "metadata": {},
   "outputs": [
    {
     "data": {
      "text/html": [
       "<div>\n",
       "<style scoped>\n",
       "    .dataframe tbody tr th:only-of-type {\n",
       "        vertical-align: middle;\n",
       "    }\n",
       "\n",
       "    .dataframe tbody tr th {\n",
       "        vertical-align: top;\n",
       "    }\n",
       "\n",
       "    .dataframe thead th {\n",
       "        text-align: right;\n",
       "    }\n",
       "</style>\n",
       "<table border=\"1\" class=\"dataframe\">\n",
       "  <thead>\n",
       "    <tr style=\"text-align: right;\">\n",
       "      <th></th>\n",
       "      <th>sensor_00</th>\n",
       "      <th>sensor_01</th>\n",
       "      <th>sensor_02</th>\n",
       "      <th>sensor_03</th>\n",
       "      <th>sensor_04</th>\n",
       "      <th>sensor_05</th>\n",
       "      <th>sensor_06</th>\n",
       "      <th>sensor_07</th>\n",
       "      <th>sensor_08</th>\n",
       "      <th>sensor_09</th>\n",
       "      <th>...</th>\n",
       "      <th>sensor_49</th>\n",
       "      <th>sensor_51</th>\n",
       "      <th>x0_BROKEN</th>\n",
       "      <th>x0_NORMAL</th>\n",
       "      <th>x0_RECOVERING</th>\n",
       "      <th>normal_time</th>\n",
       "      <th>broken_time</th>\n",
       "      <th>recovering_time</th>\n",
       "      <th>fail_in_1_days</th>\n",
       "      <th>fail_in_3_days</th>\n",
       "    </tr>\n",
       "  </thead>\n",
       "  <tbody>\n",
       "    <tr>\n",
       "      <th>0</th>\n",
       "      <td>0.976786</td>\n",
       "      <td>0.739583</td>\n",
       "      <td>0.855233</td>\n",
       "      <td>0.872093</td>\n",
       "      <td>0.792223</td>\n",
       "      <td>0.764598</td>\n",
       "      <td>0.626734</td>\n",
       "      <td>0.686154</td>\n",
       "      <td>0.726412</td>\n",
       "      <td>0.707483</td>\n",
       "      <td>...</td>\n",
       "      <td>0.134314</td>\n",
       "      <td>0.176365</td>\n",
       "      <td>0.0</td>\n",
       "      <td>1.0</td>\n",
       "      <td>0.0</td>\n",
       "      <td>0.000023</td>\n",
       "      <td>0.0</td>\n",
       "      <td>0.0</td>\n",
       "      <td>0.0</td>\n",
       "      <td>0.0</td>\n",
       "    </tr>\n",
       "    <tr>\n",
       "      <th>1</th>\n",
       "      <td>0.976786</td>\n",
       "      <td>0.739583</td>\n",
       "      <td>0.855233</td>\n",
       "      <td>0.872093</td>\n",
       "      <td>0.792223</td>\n",
       "      <td>0.764598</td>\n",
       "      <td>0.626734</td>\n",
       "      <td>0.686154</td>\n",
       "      <td>0.726412</td>\n",
       "      <td>0.707483</td>\n",
       "      <td>...</td>\n",
       "      <td>0.134314</td>\n",
       "      <td>0.176365</td>\n",
       "      <td>0.0</td>\n",
       "      <td>1.0</td>\n",
       "      <td>0.0</td>\n",
       "      <td>0.000047</td>\n",
       "      <td>0.0</td>\n",
       "      <td>0.0</td>\n",
       "      <td>0.0</td>\n",
       "      <td>0.0</td>\n",
       "    </tr>\n",
       "  </tbody>\n",
       "</table>\n",
       "<p>2 rows × 58 columns</p>\n",
       "</div>"
      ],
      "text/plain": [
       "   sensor_00  sensor_01  sensor_02  sensor_03  sensor_04  sensor_05  \\\n",
       "0   0.976786   0.739583   0.855233   0.872093   0.792223   0.764598   \n",
       "1   0.976786   0.739583   0.855233   0.872093   0.792223   0.764598   \n",
       "\n",
       "   sensor_06  sensor_07  sensor_08  sensor_09  ...  sensor_49  sensor_51  \\\n",
       "0   0.626734   0.686154   0.726412   0.707483  ...   0.134314   0.176365   \n",
       "1   0.626734   0.686154   0.726412   0.707483  ...   0.134314   0.176365   \n",
       "\n",
       "   x0_BROKEN  x0_NORMAL  x0_RECOVERING  normal_time  broken_time  \\\n",
       "0        0.0        1.0            0.0     0.000023          0.0   \n",
       "1        0.0        1.0            0.0     0.000047          0.0   \n",
       "\n",
       "   recovering_time  fail_in_1_days  fail_in_3_days  \n",
       "0              0.0             0.0             0.0  \n",
       "1              0.0             0.0             0.0  \n",
       "\n",
       "[2 rows x 58 columns]"
      ]
     },
     "execution_count": 69,
     "metadata": {},
     "output_type": "execute_result"
    }
   ],
   "source": [
    "df_train_norm.head(2)"
   ]
  },
  {
   "cell_type": "code",
   "execution_count": 70,
   "metadata": {},
   "outputs": [],
   "source": [
    "# Let's take for a sequence length 60 periods. It sums up to 1 hour.\n",
    "sequence_len = 60"
   ]
  },
  {
   "cell_type": "code",
   "execution_count": 71,
   "metadata": {},
   "outputs": [],
   "source": [
    "df_train_norm_data = df_train_norm.drop(['fail_in_1_days', 'fail_in_3_days'], axis=1)\n",
    "df_train_norm_label = df_train_norm['fail_in_1_days']"
   ]
  },
  {
   "cell_type": "code",
   "execution_count": 72,
   "metadata": {},
   "outputs": [],
   "source": [
    "def generate_sequence(sequence_len, df):\n",
    "    data_matrix = df.values\n",
    "    for i in range(0, len(df) - sequence_len):\n",
    "        yield data_matrix[i:sequence_len+i, :]"
   ]
  },
  {
   "cell_type": "code",
   "execution_count": 73,
   "metadata": {},
   "outputs": [],
   "source": [
    "seq_gen = [next(generate_sequence(sequence_len, df_train_norm_data)) for i in range(0, len(df_train_norm_data) - sequence_len)]"
   ]
  },
  {
   "cell_type": "code",
   "execution_count": 74,
   "metadata": {},
   "outputs": [],
   "source": [
    "seq_array = np.stack(seq_gen).astype(np.float32)"
   ]
  },
  {
   "cell_type": "code",
   "execution_count": 75,
   "metadata": {},
   "outputs": [
    {
     "name": "stdout",
     "output_type": "stream",
     "text": [
      "Input data into model: \n",
      " number of sequences: 121117 \n",
      " number of samples in sequence: 60 \n",
      " number of features: 56\n"
     ]
    }
   ],
   "source": [
    "seq_array_shape = seq_array.shape\n",
    "print('Input data into model: \\n number of sequences: {} \\n number of samples in sequence: {} \\n number of features: {}'.\n",
    "      format(seq_array_shape[0], seq_array_shape[1], seq_array_shape[2]))"
   ]
  },
  {
   "cell_type": "code",
   "execution_count": 76,
   "metadata": {},
   "outputs": [],
   "source": [
    "def generate_label(sequence_len, df):\n",
    "    data_matrix = df.values\n",
    "    num_of_elements = data_matrix.shape[0]\n",
    "    return data_matrix[sequence_len:num_of_elements]"
   ]
  },
  {
   "cell_type": "code",
   "execution_count": 77,
   "metadata": {},
   "outputs": [],
   "source": [
    "label_array = generate_label(sequence_len, df_train_norm_label)"
   ]
  },
  {
   "cell_type": "code",
   "execution_count": 78,
   "metadata": {},
   "outputs": [],
   "source": [
    "label_array = label_array.reshape(label_array.shape[0], 1)"
   ]
  },
  {
   "cell_type": "code",
   "execution_count": 79,
   "metadata": {},
   "outputs": [
    {
     "data": {
      "text/plain": [
       "(121117, 1)"
      ]
     },
     "execution_count": 79,
     "metadata": {},
     "output_type": "execute_result"
    }
   ],
   "source": [
    "label_array.shape"
   ]
  },
  {
   "cell_type": "markdown",
   "metadata": {},
   "source": [
    "Lets preserve created training and testing arrays"
   ]
  },
  {
   "cell_type": "code",
   "execution_count": 80,
   "metadata": {},
   "outputs": [],
   "source": [
    "np.save('seq_array', seq_array)\n",
    "np.save('label_array', label_array)"
   ]
  },
  {
   "cell_type": "markdown",
   "metadata": {},
   "source": [
    "# Model building </br>\n",
    "Output layer will contain one node and sigmoid activation function as the task is binary classification. </br>\n",
    "Dropout will be applied to control overfitting."
   ]
  },
  {
   "cell_type": "code",
   "execution_count": 81,
   "metadata": {},
   "outputs": [
    {
     "name": "stderr",
     "output_type": "stream",
     "text": [
      "Using TensorFlow backend.\n"
     ]
    }
   ],
   "source": [
    "from keras import Sequential\n",
    "import keras\n",
    "import keras_metrics"
   ]
  },
  {
   "cell_type": "code",
   "execution_count": 82,
   "metadata": {},
   "outputs": [],
   "source": [
    "from keras.layers import Dense, Dropout, LSTM, GRU"
   ]
  },
  {
   "cell_type": "code",
   "execution_count": 83,
   "metadata": {},
   "outputs": [],
   "source": [
    "model_path = 'binary_model.h5'"
   ]
  },
  {
   "cell_type": "code",
   "execution_count": 84,
   "metadata": {},
   "outputs": [],
   "source": [
    "model = Sequential()"
   ]
  },
  {
   "cell_type": "code",
   "execution_count": 85,
   "metadata": {},
   "outputs": [],
   "source": [
    "number_of_features = seq_array_shape[2]\n",
    "number_outcome = label_array.shape[1]"
   ]
  },
  {
   "cell_type": "code",
   "execution_count": 86,
   "metadata": {},
   "outputs": [],
   "source": [
    "model.add(LSTM(\n",
    "            input_shape=(sequence_len , number_of_features),\n",
    "            units=100,\n",
    "            return_sequences=True))\n",
    "\n",
    "model.add(Dropout(0.2))\n",
    "\n",
    "model.add(LSTM(\n",
    "            units=50,\n",
    "            return_sequences=False))\n",
    "\n",
    "model.add(Dropout(0.2))\n",
    "\n",
    "model.add(Dense(\n",
    "            units=number_outcome,\n",
    "            activation='sigmoid'))"
   ]
  },
  {
   "cell_type": "code",
   "execution_count": 87,
   "metadata": {},
   "outputs": [],
   "source": [
    "model.compile(\n",
    "            loss='binary_crossentropy',\n",
    "            optimizer='adam',\n",
    "            metrics=['accuracy', keras_metrics.precision(), keras_metrics.recall()])"
   ]
  },
  {
   "cell_type": "code",
   "execution_count": 88,
   "metadata": {},
   "outputs": [
    {
     "name": "stdout",
     "output_type": "stream",
     "text": [
      "_________________________________________________________________\n",
      "Layer (type)                 Output Shape              Param #   \n",
      "=================================================================\n",
      "lstm_1 (LSTM)                (None, 60, 100)           62800     \n",
      "_________________________________________________________________\n",
      "dropout_1 (Dropout)          (None, 60, 100)           0         \n",
      "_________________________________________________________________\n",
      "lstm_2 (LSTM)                (None, 50)                30200     \n",
      "_________________________________________________________________\n",
      "dropout_2 (Dropout)          (None, 50)                0         \n",
      "_________________________________________________________________\n",
      "dense_1 (Dense)              (None, 1)                 51        \n",
      "=================================================================\n",
      "Total params: 93,051\n",
      "Trainable params: 93,051\n",
      "Non-trainable params: 0\n",
      "_________________________________________________________________\n",
      "None\n"
     ]
    }
   ],
   "source": [
    "print(model.summary())"
   ]
  },
  {
   "cell_type": "code",
   "execution_count": null,
   "metadata": {},
   "outputs": [],
   "source": [
    "model.fit(x=seq_array,\n",
    "          y=label_array,\n",
    "          epochs=10,\n",
    "          batch_size=600,\n",
    "          validation_split=0.1,\n",
    "          verbose=1,callbacks=[keras.callbacks.EarlyStopping(monitor='val_loss',\n",
    "                                                             min_delta=0,\n",
    "                                                             patience=5,\n",
    "                                                             verbose=0, \n",
    "                                                             mode='auto')])"
   ]
  }
 ],
 "metadata": {
  "kernelspec": {
   "display_name": "Python 3",
   "language": "python",
   "name": "python3"
  },
  "language_info": {
   "codemirror_mode": {
    "name": "ipython",
    "version": 3
   },
   "file_extension": ".py",
   "mimetype": "text/x-python",
   "name": "python",
   "nbconvert_exporter": "python",
   "pygments_lexer": "ipython3",
   "version": "3.6.5"
  }
 },
 "nbformat": 4,
 "nbformat_minor": 4
}
